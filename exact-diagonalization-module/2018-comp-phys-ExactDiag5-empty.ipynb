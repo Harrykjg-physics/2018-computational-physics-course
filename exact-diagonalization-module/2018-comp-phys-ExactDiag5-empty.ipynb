{
 "cells": [
  {
   "cell_type": "markdown",
   "metadata": {},
   "source": [
    "### Perimeter Institute Nov 28rd\n",
    "### 2018 computational physics course\n",
    "# Exact Diagonalization\n",
    " \n",
    "Guifre Vidal  \n",
    "\n",
    "# IJulia nb5: sparse diagonalization"
   ]
  },
  {
   "cell_type": "code",
   "execution_count": 35,
   "metadata": {},
   "outputs": [],
   "source": [
    "using PyPlot\n",
    "using LinearAlgebra\n",
    "using Arpack"
   ]
  },
  {
   "cell_type": "code",
   "execution_count": 36,
   "metadata": {},
   "outputs": [
    {
     "data": {
      "text/plain": [
       "4×4 Array{Float64,2}:\n",
       " -0.707107  -0.0       -0.0       -0.707107\n",
       " -0.0       -0.0       -0.707107  -0.0     \n",
       " -0.0       -0.707107  -0.0       -0.0     \n",
       " -0.707107  -0.0       -0.0        0.707107"
      ]
     },
     "execution_count": 36,
     "metadata": {},
     "output_type": "execute_result"
    }
   ],
   "source": [
    "# Ising model\n",
    "function buildIsing(theta=pi/4) # Ising model with transverse magnetic field h (critical theta=pi/4 by default)\n",
    "    X = [0. 1; 1 0]\n",
    "    Z = [1. 0; 0 -1]\n",
    "    E = diagm(0=>ones(2))\n",
    "    XX = kron(X,X)\n",
    "    HXX = XX\n",
    "    HZ = kron(Z,E) + kron(E,Z)\n",
    "    H2 = -(cos(theta)*XX + sin(theta)/2*HZ)\n",
    "    return H2\n",
    "end\n",
    "\n",
    "H2 = buildIsing(pi/4)"
   ]
  },
  {
   "cell_type": "code",
   "execution_count": 37,
   "metadata": {},
   "outputs": [
    {
     "data": {
      "text/plain": [
       "Eigen{Float64,Float64,Array{Float64,2},Array{Float64,1}}\n",
       "eigenvalues:\n",
       "4-element Array{Float64,1}:\n",
       " -0.9999999999999993\n",
       " -0.7071067811865469\n",
       "  0.7071067811865476\n",
       "  1.0               \n",
       "eigenvectors:\n",
       "4×4 Array{Float64,2}:\n",
       " 0.92388    0.0        0.0       -0.382683\n",
       " 0.0       -0.707107   0.707107   0.0     \n",
       " 0.0       -0.707107  -0.707107   0.0     \n",
       " 0.382683   0.0        0.0        0.92388 "
      ]
     },
     "execution_count": 37,
     "metadata": {},
     "output_type": "execute_result"
    }
   ],
   "source": [
    "#Let us have a look at the spectrum of H2\n",
    "\n",
    "theta = pi/4 # critical magnetic field\n",
    "H2 = buildIsing(theta) # Hamiltonian\n",
    "D,U = eigen(H2)"
   ]
  },
  {
   "cell_type": "code",
   "execution_count": 38,
   "metadata": {},
   "outputs": [
    {
     "data": {
      "text/plain": [
       "Eigen{Float64,Float64,Array{Float64,2},Array{Float64,1}}\n",
       "eigenvalues:\n",
       "4-element Array{Float64,1}:\n",
       " -1.9999999999999993    \n",
       " -1.707106781186547     \n",
       " -0.2928932188134524    \n",
       " -8.836921296448426e-309\n",
       "eigenvectors:\n",
       "4×4 Array{Float64,2}:\n",
       " -0.92388    0.0        0.0       -0.382683\n",
       "  0.0       -0.707107   0.707107   0.0     \n",
       "  0.0       -0.707107  -0.707107   0.0     \n",
       " -0.382683   0.0        0.0        0.92388 "
      ]
     },
     "execution_count": 38,
     "metadata": {},
     "output_type": "execute_result"
    }
   ],
   "source": [
    "# Let us shift the spectrum of H2 so that all eigenvalues are negative \n",
    "\n",
    "shiftE = D[end] \n",
    "H2 = H2 - shiftE*diagm(0=>ones(4)) # remember to re-shift the energy later on!\n",
    "D,U = eigen(H2)"
   ]
  },
  {
   "cell_type": "markdown",
   "metadata": {},
   "source": [
    "### Sparse multiplication"
   ]
  },
  {
   "cell_type": "code",
   "execution_count": 39,
   "metadata": {},
   "outputs": [
    {
     "data": {
      "text/plain": [
       "multiplyHPsi (generic function with 1 method)"
      ]
     },
     "execution_count": 39,
     "metadata": {},
     "output_type": "execute_result"
    }
   ],
   "source": [
    "# function for sparse multiplication\n",
    "\n",
    "function multiplyHPsi(Psi, H2) \n",
    "    L = length(Psi)  # Dimension of the vector space\n",
    "    N = convert(Int64,log2(L))  # Number of spins\n",
    "    HPsi = zeros(L)\n",
    "    for n=1:N                              # This multiplies by the Hamiltonian H\n",
    "        Psi = reshape(Psi,(4,2^(N-2)))\n",
    "        HPsi = reshape(HPsi,(4,2^(N-2)))\n",
    "        HPsi += H2*Psi                 \n",
    "        Psi = reshape(Psi,(2,2^(N-1)))\n",
    "        HPsi = reshape(HPsi,(2,2^(N-1)))\n",
    "        Psi = permutedims(Psi,(2,1))\n",
    "        HPsi = permutedims(HPsi,(2,1))\n",
    "    end\n",
    "    Psi = reshape(Psi,L)\n",
    "    HPsi = reshape(HPsi, L)\n",
    "    return HPsi\n",
    "end"
   ]
  },
  {
   "cell_type": "markdown",
   "metadata": {},
   "source": [
    "### Initialize Psi for N spins"
   ]
  },
  {
   "cell_type": "code",
   "execution_count": 40,
   "metadata": {},
   "outputs": [
    {
     "name": "stdout",
     "output_type": "stream",
     "text": [
      "  0.456756 seconds (67.88 k allocations: 651.300 MiB, 36.36% gc time)\n"
     ]
    }
   ],
   "source": [
    "N=20 #  N = 20    t < 0.5s \n",
    "Psi = randn(2^N)\n",
    "\n",
    "# Normalize Psi\n",
    "Psi = Psi/sqrt(abs(Psi'*Psi))\n",
    "\n",
    "@time multiplyHPsi(Psi,H2)\n",
    "\n",
    "init_steps = 1\n",
    "energy = ones(0)\n",
    "initial_step=1\n",
    "Nsteps = 0\n",
    ";"
   ]
  },
  {
   "cell_type": "markdown",
   "metadata": {},
   "source": [
    "### Apply power method to Psi"
   ]
  },
  {
   "cell_type": "code",
   "execution_count": 41,
   "metadata": {},
   "outputs": [
    {
     "name": "stdout",
     "output_type": "stream",
     "text": [
      "1:20 2:20 3:20 4:20 5:20 6:20 7:20 8:20 9:20 10:20 11:20 12:20 13:20 14:20 15:20 16:20 17:20 18:20 19:20 20:20 "
     ]
    }
   ],
   "source": [
    "# Use this to start or continue to apply power method \n",
    "\n",
    "initial_step += Nsteps\n",
    "Nsteps = 20\n",
    "final_step = initial_step + Nsteps-1\n",
    "\n",
    "for n=initial_step:final_step\n",
    "    HPsi = multiplyHPsi(Psi,H2)\n",
    "    newenergy = real(Psi'*HPsi) + shiftE*N\n",
    "    energy = [energy; newenergy]\n",
    "    Psi = HPsi/sqrt(abs(HPsi'*HPsi))\n",
    "    print(n-initial_step+1, \":\", Nsteps, \" \")\n",
    "end"
   ]
  },
  {
   "cell_type": "code",
   "execution_count": 42,
   "metadata": {},
   "outputs": [
    {
     "data": {
      "image/png": "[encoded data removed]",
      "text/plain": [
       "Figure(PyObject <Figure size 1400x400 with 2 Axes>)"
      ]
     },
     "metadata": {},
     "output_type": "display_data"
    }
   ],
   "source": [
    "figure(\"Power_method\",figsize=(14,4))\n",
    "\n",
    "subplot(121) # Create the 1st axis of a 2x2 arrax of axes\n",
    "grid(\"on\") # Create a grid on the axis\n",
    "title(\"Power method\")\n",
    "ax = gca()\n",
    "xlabel(\"all iterations\")\n",
    "ylabel(\"Energy\")\n",
    "plot(energy, marker = \"o\")\n",
    "\n",
    "subplot(122) # Create the 1st axis of a 2x2 arrax of axes\n",
    "grid(\"on\") # Create a grid on the axis\n",
    "title(\"Power method\")\n",
    "ax = gca()\n",
    "xlabel(\"most recent iterations\")\n",
    "ylabel(\"Energy\")\n",
    "plot(initial_step:final_step, energy[initial_step:final_step], marker = \"o\");"
   ]
  },
  {
   "cell_type": "markdown",
   "metadata": {},
   "source": [
    "### Exercise (1/2): For $N=20$ spins, compute the lowest energy with momentum $k=n 2\\pi/N$ for $n=0,2, \\cdots, N-1$"
   ]
  },
  {
   "cell_type": "code",
   "execution_count": null,
   "metadata": {},
   "outputs": [],
   "source": []
  },
  {
   "cell_type": "markdown",
   "metadata": {},
   "source": [
    "### Exercise (1/2): For $N=20$ spins, compute first excited state with mementum $k=0$ "
   ]
  },
  {
   "cell_type": "code",
   "execution_count": null,
   "metadata": {},
   "outputs": [],
   "source": []
  },
  {
   "cell_type": "code",
   "execution_count": null,
   "metadata": {},
   "outputs": [],
   "source": []
  }
 ],
 "metadata": {
  "kernelspec": {
   "display_name": "Julia 1.0.0",
   "language": "julia",
   "name": "julia-1.0"
  },
  "language_info": {
   "file_extension": ".jl",
   "mimetype": "application/julia",
   "name": "julia",
   "version": "1.0.0"
  }
 },
 "nbformat": 4,
 "nbformat_minor": 2
}
