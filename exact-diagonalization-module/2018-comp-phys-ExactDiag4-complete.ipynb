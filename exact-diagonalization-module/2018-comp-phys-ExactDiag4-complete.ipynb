{
 "cells": [
  {
   "cell_type": "markdown",
   "metadata": {},
   "source": [
    "### Perimeter Institute Nov 23rd\n",
    "### 2018 computational physics course\n",
    "# Exact Diagonalization\n",
    " \n",
    "Guifre Vidal  \n",
    "\n",
    "# IJulia nb4: quantum entanglement"
   ]
  },
  {
   "cell_type": "code",
   "execution_count": 3,
   "metadata": {},
   "outputs": [],
   "source": [
    "using PyPlot\n",
    "using LinearAlgebra\n",
    "using Arpack"
   ]
  },
  {
   "cell_type": "code",
   "execution_count": 4,
   "metadata": {},
   "outputs": [
    {
     "data": {
      "text/plain": [
       "6-element Array{Complex{Float64},1}:\n",
       " -1.0628211930185867 + 3.7582299766274283im \n",
       " -0.6671223192696618 - 1.505781790901663im  \n",
       "  -1.424755712503474 - 0.6693549772722557im \n",
       " -0.5052810121957295 - 1.3203229246796055im \n",
       " 0.31735715100567324 - 0.04520142414086508im\n",
       " -0.9875028869967035 + 0.4364784125635265im "
      ]
     },
     "execution_count": 4,
     "metadata": {},
     "output_type": "execute_result"
    }
   ],
   "source": [
    "Psi = randn(6) + im*randn(6) # complex vector"
   ]
  },
  {
   "cell_type": "code",
   "execution_count": 5,
   "metadata": {},
   "outputs": [
    {
     "data": {
      "text/plain": [
       "23.711272975359275 + 0.0im"
      ]
     },
     "execution_count": 5,
     "metadata": {},
     "output_type": "execute_result"
    }
   ],
   "source": [
    "Psi'*Psi # already just a complex number! (not an array)"
   ]
  },
  {
   "cell_type": "code",
   "execution_count": 6,
   "metadata": {},
   "outputs": [
    {
     "data": {
      "text/plain": [
       "1.0000000000000002 + 0.0im"
      ]
     },
     "execution_count": 6,
     "metadata": {},
     "output_type": "execute_result"
    }
   ],
   "source": [
    "Psi = Psi/sqrt(abs(Psi'*Psi))  # normalized vector\n",
    "Psi'*Psi"
   ]
  },
  {
   "cell_type": "code",
   "execution_count": 7,
   "metadata": {},
   "outputs": [
    {
     "data": {
      "text/plain": [
       "3×2 Array{Complex{Float64},2}:\n",
       " -0.218264+0.771802im  -0.103766-0.271146im  \n",
       " -0.137002-0.309232im  0.0651735-0.00928271im\n",
       " -0.292592-0.137461im  -0.202797+0.0896366im "
      ]
     },
     "execution_count": 7,
     "metadata": {},
     "output_type": "execute_result"
    }
   ],
   "source": [
    "PsiAB = reshape(Psi, (3,2)) # bipartite vector"
   ]
  },
  {
   "cell_type": "code",
   "execution_count": 8,
   "metadata": {},
   "outputs": [
    {
     "data": {
      "text/plain": [
       "((3, 2), (3, 3), (2, 2))"
      ]
     },
     "execution_count": 8,
     "metadata": {},
     "output_type": "execute_result"
    }
   ],
   "source": [
    "rdmA = PsiAB*PsiAB' # reduced density matrix for part A\n",
    "rdmB = PsiAB'*PsiAB # reduced density matrix for part B\n",
    "(size(PsiAB), size(rdmA), size(rdmB))"
   ]
  },
  {
   "cell_type": "code",
   "execution_count": 9,
   "metadata": {},
   "outputs": [
    {
     "data": {
      "text/plain": [
       "1.0000000000000002 + 0.0im"
      ]
     },
     "execution_count": 9,
     "metadata": {},
     "output_type": "execute_result"
    }
   ],
   "source": [
    "tr(rdmA) # checking that the trace is 1"
   ]
  },
  {
   "cell_type": "markdown",
   "metadata": {},
   "source": [
    "### 1) Given a bipartite wavefunction $\\Psi_{AB}$, compute the reduced density matrix $\\rho_A \\equiv \\mbox{Tr}_B(\\left|\\Psi_{AB}\\rangle \\langle \\Psi_{AB}\\right|)$ "
   ]
  },
  {
   "cell_type": "code",
   "execution_count": 10,
   "metadata": {},
   "outputs": [
    {
     "data": {
      "text/plain": [
       "16-element Array{Float64,1}:\n",
       " 0.00883168828727382 \n",
       " 0.013958842374827975\n",
       " 0.017931727477443433\n",
       " 0.022452254737674638\n",
       " 0.029736609027394414\n",
       " 0.0392657430384324  \n",
       " 0.04136933103094236 \n",
       " 0.04913131294877505 \n",
       " 0.05972979128900736 \n",
       " 0.07029279344988208 \n",
       " 0.08165525238149082 \n",
       " 0.0910630300035694  \n",
       " 0.0976742747495661  \n",
       " 0.1116711911946861  \n",
       " 0.12385748033668481 \n",
       " 0.1413786776723493  "
      ]
     },
     "execution_count": 10,
     "metadata": {},
     "output_type": "execute_result"
    }
   ],
   "source": [
    "function compute_rdmA(PsiAB)\n",
    "    @assert ndims(PsiAB) == 2 # did we input a matrix?\n",
    "    @assert size(PsiAB,1) < 2^13 # make sure the resulting matrix is not too large!\n",
    "    rdm = PsiAB*PsiAB'\n",
    "end\n",
    "\n",
    "nA = 4 # number spins/qubits in A\n",
    "nB = 5 # number of spins/qubits in B\n",
    "Psi = randn(2^(nA+nB)) + im*randn(2^(nA+nB))\n",
    "Psi = Psi/sqrt(Psi'*Psi) \n",
    "PsiAB = reshape(Psi, (2^(nA),2^(nB)))\n",
    "rdmA = compute_rdmA(PsiAB)\n",
    "eigvals(rdmA)\n"
   ]
  },
  {
   "cell_type": "markdown",
   "metadata": {},
   "source": [
    "### 2) Given $\\rho_A$, compute its entropy"
   ]
  },
  {
   "cell_type": "code",
   "execution_count": 11,
   "metadata": {},
   "outputs": [
    {
     "data": {
      "text/plain": [
       "3.6863872591541513"
      ]
     },
     "execution_count": 11,
     "metadata": {},
     "output_type": "execute_result"
    }
   ],
   "source": [
    "function compute_entropy(dm)\n",
    "    p = eigvals(dm)\n",
    "    entropy = 0.0\n",
    "    #entropy = - p'*log2.(p) # problems when p[n] is of order 0 (possibly negative)\n",
    "    for n in 1:size(p,1)\n",
    "        if abs(p[n]) > 1e-12\n",
    "            entropy = entropy - p[n]*log2(p[n])\n",
    "        end\n",
    "    end\n",
    "    entropy\n",
    "end\n",
    "\n",
    "compute_entropy(rdmA)"
   ]
  },
  {
   "cell_type": "markdown",
   "metadata": {},
   "source": [
    "### 3) Given $|\\Psi\\rangle$ of $N$ spins, compute the entropy of the reduced density matrix on $n=1,2,\\cdots,N/2$ spins "
   ]
  },
  {
   "cell_type": "code",
   "execution_count": 17,
   "metadata": {},
   "outputs": [
    {
     "data": {
      "text/plain": [
       "compute_entropies (generic function with 1 method)"
      ]
     },
     "execution_count": 17,
     "metadata": {},
     "output_type": "execute_result"
    }
   ],
   "source": [
    "function compute_entropies(Psi)\n",
    "    @assert ndims(Psi) == 1 \n",
    "    N = floor(Int64,log2(size(Psi,1) + 1e-5))    \n",
    "    Nmin = 1\n",
    "    Nmax = floor(Int64,N/2) # N/2 for even N, (N-1)/2 for odd N\n",
    "    entropies = zeros(Nmax-Nmin+1)\n",
    "    for nA in Nmin:Nmax\n",
    "        PsiAB = reshape(Psi, (2^(nA),2^(N-nA)))\n",
    "        rdmA = compute_rdmA(PsiAB)\n",
    "        entropies[nA] = compute_entropy(rdmA)\n",
    "    end\n",
    "    entropies\n",
    "end\n"
   ]
  },
  {
   "cell_type": "markdown",
   "metadata": {},
   "source": [
    "### 4) for $N$ spins ($N \\geq 12$) create ground state of Ising model at critical point, as well as a random state"
   ]
  },
  {
   "cell_type": "code",
   "execution_count": 15,
   "metadata": {},
   "outputs": [
    {
     "data": {
      "text/plain": [
       "buildH (generic function with 1 method)"
      ]
     },
     "execution_count": 15,
     "metadata": {},
     "output_type": "execute_result"
    }
   ],
   "source": [
    "function buildH(N::Int64,theta::Float64)::Array{Float64,2} \n",
    "    X = [0. 1; 1 0]\n",
    "    Z = [1. 0; 0 -1]\n",
    "    E = diagm(0=>ones(2))\n",
    "    XX = kron(X,X)\n",
    "    HXX = XX\n",
    "    HZ = kron(Z,E) + kron(E,Z)\n",
    "    for n = 3:N\n",
    "        HXX = kron(HXX,E)+kron(diagm(0=>ones(2^(n-2))), XX)\n",
    "        HZ =  kron(HZ,E) + kron(diagm(0=>ones(2^(n-1))),Z)\n",
    "    end\n",
    "    HXX = HXX + kron(X,kron(diagm(0=>ones(2^(N-2))),X))\n",
    "    H = -cos(theta)*HXX - sin(theta)*HZ\n",
    "    return H\n",
    "end"
   ]
  },
  {
   "cell_type": "code",
   "execution_count": 16,
   "metadata": {},
   "outputs": [
    {
     "name": "stdout",
     "output_type": "stream",
     "text": [
      "  0.711629 seconds (428 allocations: 821.313 KiB)\n",
      "  0.671714 seconds (388 allocations: 819.750 KiB)\n"
     ]
    }
   ],
   "source": [
    "N = 12 # number of qubits/spins N=14 OK\n",
    "\n",
    "# ground state crit\n",
    "H = buildH(N,pi/4)\n",
    "@time D,U = eigs(H,nev=1,which=:SR)\n",
    "PsiIsingCrit = U[:,1]\n",
    "\n",
    "# ground state crit\n",
    "H = buildH(N,pi/3)\n",
    "@time D,U = eigs(H,nev=1,which=:SR)\n",
    "PsiIsing2 = U[:,1]\n",
    "H=0 # to free memory?\n",
    "\n",
    "# random state\n",
    "PsiRand = randn(2^N) + im*randn(2^N)\n",
    "PsiRand = PsiRand/sqrt(abs(PsiRand'*PsiRand));"
   ]
  },
  {
   "cell_type": "markdown",
   "metadata": {},
   "source": [
    "### 5) Both for the ground state (with $\\theta = \\pi/2$ and $\\theta = \\pi/3$) and a random state, compute and plot the entropy as a function of $n_A=1,2,\\cdots N/2$, "
   ]
  },
  {
   "cell_type": "code",
   "execution_count": 20,
   "metadata": {},
   "outputs": [
    {
     "data": {
      "image/png": "[encoded data removed]",
      "text/plain": [
       "Figure(PyObject <Figure size 640x480 with 1 Axes>)"
      ]
     },
     "metadata": {},
     "output_type": "display_data"
    }
   ],
   "source": [
    "entropiesRand = compute_entropies(PsiRand)\n",
    "entropiesIsingCrit = compute_entropies(PsiIsingCrit)\n",
    "entropiesIsing2 = compute_entropies(PsiIsing2)\n",
    "# Rand entropies\n",
    "plot(collect(1:size(entropiesRand,1)),entropiesRand, marker = \"o\", color = \"k\");"
   ]
  },
  {
   "cell_type": "code",
   "execution_count": 21,
   "metadata": {},
   "outputs": [
    {
     "data": {
      "image/png": "[encoded data removed]",
      "text/plain": [
       "Figure(PyObject <Figure size 640x480 with 1 Axes>)"
      ]
     },
     "metadata": {},
     "output_type": "display_data"
    }
   ],
   "source": [
    "# Ising Entropies\n",
    "plot(collect(1:size(entropiesIsingCrit,1)),entropiesIsingCrit, marker = \"o\", color = \"b\");\n",
    "plot(collect(1:size(entropiesIsing2,1)),entropiesIsing2, marker = \"o\", color = \"y\");"
   ]
  },
  {
   "cell_type": "code",
   "execution_count": 22,
   "metadata": {},
   "outputs": [
    {
     "data": {
      "image/png": "[encoded data removed]",
      "text/plain": [
       "Figure(PyObject <Figure size 640x480 with 1 Axes>)"
      ]
     },
     "metadata": {},
     "output_type": "display_data"
    }
   ],
   "source": [
    "plot(collect(1:size(entropiesRand,1)),collect(1:size(entropiesRand,1)), color = \"r\")\n",
    "plot(collect(1:size(entropiesRand,1)),entropiesRand, marker = \"o\", color = \"k\")\n",
    "plot(collect(1:size(entropiesIsingCrit,1)),entropiesIsingCrit, marker = \"o\", color = \"b\");\n",
    "plot(collect(1:size(entropiesIsing2,1)),entropiesIsing2, marker = \"o\", color = \"y\");"
   ]
  },
  {
   "cell_type": "code",
   "execution_count": null,
   "metadata": {},
   "outputs": [],
   "source": []
  }
 ],
 "metadata": {
  "kernelspec": {
   "display_name": "Julia 1.0.0",
   "language": "julia",
   "name": "julia-1.0"
  },
  "language_info": {
   "file_extension": ".jl",
   "mimetype": "application/julia",
   "name": "julia",
   "version": "1.0.0"
  }
 },
 "nbformat": 4,
 "nbformat_minor": 2
}
