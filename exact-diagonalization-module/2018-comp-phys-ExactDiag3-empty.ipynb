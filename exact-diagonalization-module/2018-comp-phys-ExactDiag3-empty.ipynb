{
 "cells": [
  {
   "cell_type": "markdown",
   "metadata": {},
   "source": [
    "### Perimeter Institute Nov 21st\n",
    "### 2018 computational physics course\n",
    "# Exact Diagonalization\n",
    " \n",
    "Guifre Vidal  \n",
    "\n",
    "# IJulia nb3: Low energy spectrum and quantum criticality"
   ]
  },
  {
   "cell_type": "code",
   "execution_count": null,
   "metadata": {},
   "outputs": [],
   "source": [
    "using PyPlot\n",
    "using LinearAlgebra\n",
    "using Arpack"
   ]
  },
  {
   "cell_type": "code",
   "execution_count": null,
   "metadata": {},
   "outputs": [],
   "source": [
    "# function buildH takes as input N (number of spins) and theta (magnetic field angle) and outputs H (Ising Hamiltonian)\n",
    "\n",
    "function buildH(N::Int64,theta::Float64)::Array{Float64,2} \n",
    "    X = [0. 1; 1 0]\n",
    "    Z = [1. 0; 0 -1]\n",
    "    E = diagm(0=>ones(2))\n",
    "    XX = kron(X,X)\n",
    "    HXX = XX\n",
    "    HZ = kron(Z,E) + kron(E,Z)\n",
    "    for n = 3:N\n",
    "        HXX = kron(HXX,E)+kron(diagm(0=>ones(2^(n-2))), XX)\n",
    "        HZ =  kron(HZ,E) + kron(diagm(0=>ones(2^(n-1))),Z)\n",
    "    end\n",
    "    HXX = HXX + kron(X,kron(diagm(0=>ones(2^(N-2))),X))\n",
    "    H = -cos(theta)*HXX - sin(theta)*HZ\n",
    "    return H\n",
    "end\n",
    "\n",
    "buildH(3,pi/4) # test for N=3 and critical theta = pi/4\n"
   ]
  },
  {
   "cell_type": "markdown",
   "metadata": {},
   "source": [
    "### functions eigen(H) vs eigs(H, nev=2)\n"
   ]
  },
  {
   "cell_type": "code",
   "execution_count": null,
   "metadata": {},
   "outputs": [],
   "source": [
    "N = 8\n",
    "H = buildH(N,pi/2)\n",
    "D,U = eigen(H)\n",
    "d,u = eigs(H, nev=2, which=:SR) # :LR largest real, :SR smallest real, :LM largest magnitude, :SM smallest magnitude \n",
    "display([D[1] d[1]])\n",
    "Psi1 = U[:,1]\n",
    "Psi2 = u[:,1]\n",
    "display(abs(Psi1'*Psi2))"
   ]
  },
  {
   "cell_type": "markdown",
   "metadata": {},
   "source": [
    "### Excercise (1/2):  check the scaling of computational time with $N$, for eigen and eigs with nev$=1$ and nev$=8$"
   ]
  },
  {
   "cell_type": "code",
   "execution_count": null,
   "metadata": {},
   "outputs": [],
   "source": [
    "Nmin = 4 \n",
    "Nmax = 10  # Nmax ~ 10 recomended, 11 OK, but not much larger!!!\n",
    "time_full = zeros(Nmax-Nmin + 1)\n",
    "theta = pi/3\n",
    "n_repeat = 1;"
   ]
  },
  {
   "cell_type": "code",
   "execution_count": null,
   "metadata": {},
   "outputs": [],
   "source": [
    "# full\n",
    "for N in Nmin:Nmax\n",
    "    H = buildH(N,theta)\n",
    "\n",
    "    t1 = time()\n",
    "    for n=1:n_repeat \n",
    "        D,U = eigen(H)\n",
    "    end\n",
    "    t2 = time()\n",
    "    time_full[N-Nmin+1] = t2-t1\n",
    "    display([size(H) t2-t1])\n",
    "    sleep(0.5)\n",
    "end"
   ]
  },
  {
   "cell_type": "code",
   "execution_count": null,
   "metadata": {},
   "outputs": [],
   "source": [
    "semilogy([i for i in Nmin:Nmax+1], [(3e-10)*2^(3i) for i in Nmin:Nmax+1], color = \"r\")\n",
    "semilogy([i for i in Nmin:Nmax+1], [(3e-8)*2^(2i) for i in Nmin:Nmax+1],  color = \"r\")\n",
    "\n",
    "semilogy([i for i in Nmin:Nmax], time_full, marker = \"s\", color = \"k\")\n"
   ]
  },
  {
   "cell_type": "code",
   "execution_count": null,
   "metadata": {},
   "outputs": [],
   "source": [
    "N=10\n",
    "Nstates = 12\n",
    "H = buildH(N,pi/4)\n",
    "D,U = eigs(H, nev=Nstates, which=:SR) # :LR largest real, :SR smallest real, :LM largest magnitude, :SM smallest magnitude \n",
    "plot(collect(1:Nstates), sort(D), marker = \"o\", markersize = 10, color = \"b\")"
   ]
  },
  {
   "cell_type": "markdown",
   "metadata": {},
   "source": [
    "### Conformal data (scaling dimensions and conformal spins) of the Ising CFT\n",
    "### Let us plot the 12 lowest scaling dimensions (and corresponding conformal spins)"
   ]
  },
  {
   "cell_type": "code",
   "execution_count": null,
   "metadata": {},
   "outputs": [],
   "source": [
    "# Plot exact scaling dimensions (Delta) and conformal spins (spin) in each parity sector (parity) \n",
    "Ndim = 12\n",
    "Delta = [0 1/8 1 1+1/8 1+1/8 2 2 2 2 2+1/8 2+1/8 2+1/8]\n",
    "spin = [0 0 0 1 -1 2 1 -1 -2 2 0 -2]\n",
    "parity = [0 1 0 1 1 0 0 0 0 1 1 1]\n",
    "\n",
    "figure(\"conformal_data_pbc\",figsize=(10,4))\n",
    "\n",
    "subplot(121) # Create the 1st axis of a 2x2 arrax of axes\n",
    "grid(\"on\") # Create a grid on the axis\n",
    "title(\"Even Parity, p=0\")\n",
    "ax = gca()\n",
    "ax[:set_xlim]([-3,3])\n",
    "ax[:set_ylim]([-0.2,2.8])\n",
    "xlabel(\"conformal spin\")\n",
    "ylabel(\"scaling dimension\")\n",
    "annotate(\"identity\", xy=[0.2;0])\n",
    "annotate(L\"$\\mathbb{I}$\", xy=[-0.3;0.2])\n",
    "annotate(\"energy density\", xy=[0.2;1])\n",
    "annotate(L\"$\\epsilon$\", xy=[-0.3;1.2])\n",
    "\n",
    "subplot(122) # Create the 1st axis of a 2x2 arrax of axes\n",
    "grid(\"on\") # Create a grid on the axis\n",
    "title(\"Odd Parity, p=1\")\n",
    "ax = gca()\n",
    "ax[:set_xlim]([-3,3])\n",
    "ax[:set_ylim]([-0.2,2.8])\n",
    "xlabel(\"conformal spin\")\n",
    "ylabel(\"scaling dimension\")\n",
    "annotate(\"spin\", xy=[0.2;1/8])\n",
    "annotate(L\"$\\sigma$\", xy=[-0.3;0.3])\n",
    "\n",
    "for i=1:Ndim\n",
    "    if parity[i] == 0\n",
    "        subplot(121)\n",
    "        plot(spin[i],Delta[i], marker = \"s\", markersize = 10, color = \"y\")\n",
    "    elseif parity[i] == 1\n",
    "        subplot(122)\n",
    "        plot(spin[i],Delta[i], marker = \"s\", markersize = 10, color = \"y\")\n",
    "    end\n",
    "end "
   ]
  },
  {
   "cell_type": "markdown",
   "metadata": {},
   "source": [
    "### Exercise (2/2): obtain & plot numerical estimates for 12 scaling dimensions and conformal spins ($N=10$ spins)\n",
    "### hint: In any CFT, the lowest energy state with momentum $k 2 \\times 2\\pi/N$ (or spin $s = 2$) corresponds to a CFT operator called stress tensor, which has  $(\\Delta_T,s_T) = (2,2)$. \n",
    "### Find the stress tensor energy eigenstate $|T\\rangle$ and use its energy to estimate the scaling dimensions $\\Delta_i$ of the rest of energy eigenstates according to $\\Delta_i = 2 (e_i-e_1)/(e_T - e_1)$. "
   ]
  },
  {
   "cell_type": "markdown",
   "metadata": {},
   "source": [
    "### Here are buildT and buildP for the transaltion and parity operators (from last Friday)"
   ]
  },
  {
   "cell_type": "code",
   "execution_count": null,
   "metadata": {},
   "outputs": [],
   "source": [
    "# function buildT takes as input N (number of spins) and outputs T (translatio operator)\n",
    "function buildT(N::Int64)::Array{Float64,2} \n",
    "    SWAP = [1 0 0 0; 0 0 1 0; 0 1 0 0; 0 0 0 1]\n",
    "    E = diagm(0=>ones(2))\n",
    "    T = copy(SWAP)\n",
    "    for n=3:N\n",
    "        SWAPn = kron(diagm(0=>ones(2^(n-2))), SWAP)\n",
    "        T =  SWAPn*kron(T,E)\n",
    "    end\n",
    "    return T\n",
    "end\n",
    "\n",
    "buildT(3) # test for N=3  "
   ]
  },
  {
   "cell_type": "code",
   "execution_count": null,
   "metadata": {},
   "outputs": [],
   "source": [
    "# function buildP takes as input N (number of spins) and outputs P (parity operator)\n",
    "function buildP(N::Int64)::Array{Float64,2} \n",
    "    Z = [1 0; 0 -1]\n",
    "    P = copy(Z)\n",
    "    for i=2:N\n",
    "        P = kron(P,Z)\n",
    "    end \n",
    "    return P\n",
    "end\n",
    "\n",
    "buildP(3) # test for N=3  "
   ]
  },
  {
   "cell_type": "code",
   "execution_count": null,
   "metadata": {},
   "outputs": [],
   "source": []
  }
 ],
 "metadata": {
  "kernelspec": {
   "display_name": "Julia 1.0.0",
   "language": "julia",
   "name": "julia-1.0"
  },
  "language_info": {
   "file_extension": ".jl",
   "mimetype": "application/julia",
   "name": "julia",
   "version": "1.0.0"
  }
 },
 "nbformat": 4,
 "nbformat_minor": 2
}
