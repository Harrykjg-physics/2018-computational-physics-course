{
 "cells": [
  {
   "cell_type": "markdown",
   "metadata": {},
   "source": [
    "### Perimeter Institute Nov 14th \n",
    "### 2018 computational physics course\n",
    "# Exact Diagonalization\n",
    " \n",
    "Guifre Vidal  \n",
    "\n",
    "# IJulia nb1: linear algebra, plotting"
   ]
  },
  {
   "cell_type": "markdown",
   "metadata": {},
   "source": [
    "### numbers"
   ]
  },
  {
   "cell_type": "code",
   "execution_count": 1,
   "metadata": {},
   "outputs": [
    {
     "data": {
      "text/plain": [
       "1"
      ]
     },
     "execution_count": 1,
     "metadata": {},
     "output_type": "execute_result"
    }
   ],
   "source": [
    "a = 1  # integer number"
   ]
  },
  {
   "cell_type": "code",
   "execution_count": 7,
   "metadata": {},
   "outputs": [
    {
     "data": {
      "text/plain": [
       "3.3"
      ]
     },
     "metadata": {},
     "output_type": "display_data"
    },
    {
     "data": {
      "text/plain": [
       "Float64"
      ]
     },
     "execution_count": 7,
     "metadata": {},
     "output_type": "execute_result"
    }
   ],
   "source": [
    "b = 2.3 # real number\n",
    "c = a+b # sum"
   ]
  },
  {
   "cell_type": "code",
   "execution_count": 8,
   "metadata": {},
   "outputs": [
    {
     "data": {
      "text/plain": [
       "1.0 + 2.3im"
      ]
     },
     "metadata": {},
     "output_type": "display_data"
    },
    {
     "data": {
      "text/plain": [
       "Complex{Float64}"
      ]
     },
     "execution_count": 8,
     "metadata": {},
     "output_type": "execute_result"
    }
   ],
   "source": [
    "z = a + b*im  # complex numbers"
   ]
  },
  {
   "cell_type": "code",
   "execution_count": 13,
   "metadata": {},
   "outputs": [
    {
     "data": {
      "text/plain": [
       "(Int64, Float64, Complex{Float64})"
      ]
     },
     "execution_count": 13,
     "metadata": {},
     "output_type": "execute_result"
    }
   ],
   "source": [
    "(typeof(a), typeof(c), typeof(z)) # number types"
   ]
  },
  {
   "cell_type": "markdown",
   "metadata": {},
   "source": [
    "### vectors"
   ]
  },
  {
   "cell_type": "code",
   "execution_count": 14,
   "metadata": {},
   "outputs": [
    {
     "data": {
      "text/plain": [
       "1×4 Array{Float64,2}:\n",
       " 1.0  2.0  0.0  0.2"
      ]
     },
     "execution_count": 14,
     "metadata": {},
     "output_type": "execute_result"
    }
   ],
   "source": [
    "v = [1.0 2 0 0.2]  # row vector"
   ]
  },
  {
   "cell_type": "code",
   "execution_count": 15,
   "metadata": {},
   "outputs": [
    {
     "data": {
      "text/plain": [
       "4×1 LinearAlgebra.Adjoint{Float64,Array{Float64,2}}:\n",
       " 0.3\n",
       " 0.0\n",
       " 2.0\n",
       " 1.2"
      ]
     },
     "execution_count": 15,
     "metadata": {},
     "output_type": "execute_result"
    }
   ],
   "source": [
    "w = [0.3 0 2 1.2]'  # column vector  "
   ]
  },
  {
   "cell_type": "code",
   "execution_count": 16,
   "metadata": {},
   "outputs": [
    {
     "data": {
      "text/plain": [
       "4×1 Array{Complex{Float64},2}:\n",
       "   0.8130303089149976 - 0.8807188799308258im \n",
       " 0.013788021878399444 - 1.812236091312663im  \n",
       "  -0.4920245290039441 - 0.48413640095644667im\n",
       "  0.36166223300099326 - 0.9095981954005131im "
      ]
     },
     "execution_count": 16,
     "metadata": {},
     "output_type": "execute_result"
    }
   ],
   "source": [
    "w = randn(4,1) + im*randn(4,1) # random column vector --> try randn(1,4) to create a row vector"
   ]
  },
  {
   "cell_type": "code",
   "execution_count": 17,
   "metadata": {},
   "outputs": [
    {
     "data": {
      "text/plain": [
       "0.013788021878399444 - 1.812236091312663im"
      ]
     },
     "execution_count": 17,
     "metadata": {},
     "output_type": "execute_result"
    }
   ],
   "source": [
    "w[2] # access component 2 of the vector w"
   ]
  },
  {
   "cell_type": "code",
   "execution_count": 18,
   "metadata": {},
   "outputs": [
    {
     "data": {
      "text/plain": [
       "1×1 Array{Complex{Float64},2}:\n",
       " 0.9129387992719952 - 4.687110701636254im"
      ]
     },
     "execution_count": 18,
     "metadata": {},
     "output_type": "execute_result"
    }
   ],
   "source": [
    "v*w # scalar product as a 1x1 array"
   ]
  },
  {
   "cell_type": "code",
   "execution_count": 19,
   "metadata": {},
   "outputs": [
    {
     "data": {
      "text/plain": [
       "0.9129387992719952 - 4.687110701636254im"
      ]
     },
     "execution_count": 19,
     "metadata": {},
     "output_type": "execute_result"
    }
   ],
   "source": [
    "(v*w)[1] # scalar product as a single number"
   ]
  },
  {
   "cell_type": "code",
   "execution_count": 20,
   "metadata": {},
   "outputs": [
    {
     "data": {
      "text/plain": [
       "2.4810720321289126 + 0.0im"
      ]
     },
     "execution_count": 20,
     "metadata": {},
     "output_type": "execute_result"
    }
   ],
   "source": [
    "sqrt((w'*w)[1]) # norm of w"
   ]
  },
  {
   "cell_type": "markdown",
   "metadata": {},
   "source": [
    "### matrices"
   ]
  },
  {
   "cell_type": "code",
   "execution_count": 21,
   "metadata": {},
   "outputs": [
    {
     "data": {
      "text/plain": [
       "3×3 Array{Float64,2}:\n",
       " 1.0  2.0  3.0\n",
       " 2.0  3.0  4.0\n",
       " 3.0  2.0  1.0"
      ]
     },
     "execution_count": 21,
     "metadata": {},
     "output_type": "execute_result"
    }
   ],
   "source": [
    "M = [1.0 2 3; 2 3 4; 3 2 1]"
   ]
  },
  {
   "cell_type": "code",
   "execution_count": 22,
   "metadata": {},
   "outputs": [
    {
     "data": {
      "text/plain": [
       "4×4 Array{Complex{Float64},2}:\n",
       "   1.43668+0.0im        1.60728+1.46126im   …   1.09514+0.421008im\n",
       "   1.60728-1.46126im    3.28439+0.0im           1.65339-0.642876im\n",
       " 0.0263572-0.826953im  0.870585-0.89834im      0.262423-0.622638im\n",
       "   1.09514-0.421008im   1.65339+0.642876im     0.958168+0.0im     "
      ]
     },
     "execution_count": 22,
     "metadata": {},
     "output_type": "execute_result"
    }
   ],
   "source": [
    "M = w*w' #"
   ]
  },
  {
   "cell_type": "code",
   "execution_count": 23,
   "metadata": {},
   "outputs": [
    {
     "data": {
      "text/plain": [
       "3×3 Array{Complex{Float64},2}:\n",
       " 0.356149+0.0458116im   0.151723+0.355198im  0.961432+0.422068im\n",
       " 0.681265+0.00175894im  0.126703+0.999258im  0.878868+0.313834im\n",
       " 0.565677+0.607468im    0.964294+0.274417im  0.357764+0.155502im"
      ]
     },
     "execution_count": 23,
     "metadata": {},
     "output_type": "execute_result"
    }
   ],
   "source": [
    "n=3\n",
    "M = rand(n,n)+im*rand(n,n)  # nxn random matrix "
   ]
  },
  {
   "cell_type": "code",
   "execution_count": 24,
   "metadata": {},
   "outputs": [
    {
     "data": {
      "text/plain": [
       "3×3 LinearAlgebra.Adjoint{Complex{Float64},Array{Complex{Float64},2}}:\n",
       " 0.356149-0.0458116im  0.681265-0.00175894im  0.565677-0.607468im\n",
       " 0.151723-0.355198im   0.126703-0.999258im    0.964294-0.274417im\n",
       " 0.961432-0.422068im   0.878868-0.313834im    0.357764-0.155502im"
      ]
     },
     "execution_count": 24,
     "metadata": {},
     "output_type": "execute_result"
    }
   ],
   "source": [
    "M' # hermitian conjugate"
   ]
  },
  {
   "cell_type": "code",
   "execution_count": 25,
   "metadata": {},
   "outputs": [
    {
     "data": {
      "text/plain": [
       "3×3 Array{Complex{Float64},2}:\n",
       " 0.356149+0.0im        0.416494+0.17672im    0.763554-0.0927001im\n",
       " 0.416494-0.17672im    0.126703+0.0im        0.921581+0.0197089im\n",
       " 0.763554+0.0927001im  0.921581-0.0197089im  0.357764+0.0im      "
      ]
     },
     "execution_count": 25,
     "metadata": {},
     "output_type": "execute_result"
    }
   ],
   "source": [
    "M = (M+M')/2 # let us make M Hermitian!"
   ]
  },
  {
   "cell_type": "markdown",
   "metadata": {},
   "source": [
    "### eigenvector decomposition"
   ]
  },
  {
   "cell_type": "code",
   "execution_count": 26,
   "metadata": {},
   "outputs": [],
   "source": [
    "using LinearAlgebra"
   ]
  },
  {
   "cell_type": "code",
   "execution_count": 27,
   "metadata": {},
   "outputs": [
    {
     "data": {
      "text/plain": [
       "Eigen{Complex{Float64},Float64,Array{Complex{Float64},2},Array{Float64,1}}\n",
       "eigenvalues:\n",
       "3-element Array{Float64,1}:\n",
       " -0.7877943732613641 \n",
       " -0.08480037193106327\n",
       "  1.7132106705651966 \n",
       "eigenvectors:\n",
       "3×3 Array{Complex{Float64},2}:\n",
       " -0.26138+0.210345im  -0.583143-0.508061im  -0.537762-0.00810858im\n",
       " -0.61876-0.161217im   0.279073+0.485567im  -0.524431+0.0495952im \n",
       " 0.691795+0.0im        0.296919+0.0im       -0.658224-0.0im       "
      ]
     },
     "execution_count": 27,
     "metadata": {},
     "output_type": "execute_result"
    }
   ],
   "source": [
    "D,U = eigen(M) # eigenvalue decomposition"
   ]
  },
  {
   "cell_type": "code",
   "execution_count": 28,
   "metadata": {},
   "outputs": [
    {
     "data": {
      "text/plain": [
       "3-element Array{Float64,1}:\n",
       " -0.7877943732613641 \n",
       " -0.08480037193106327\n",
       "  1.7132106705651966 "
      ]
     },
     "execution_count": 28,
     "metadata": {},
     "output_type": "execute_result"
    }
   ],
   "source": [
    "D  # eigenvalues"
   ]
  },
  {
   "cell_type": "code",
   "execution_count": 29,
   "metadata": {},
   "outputs": [
    {
     "data": {
      "text/plain": [
       "3×3 Array{Complex{Float64},2}:\n",
       " -0.26138+0.210345im  -0.583143-0.508061im  -0.537762-0.00810858im\n",
       " -0.61876-0.161217im   0.279073+0.485567im  -0.524431+0.0495952im \n",
       " 0.691795+0.0im        0.296919+0.0im       -0.658224-0.0im       "
      ]
     },
     "execution_count": 29,
     "metadata": {},
     "output_type": "execute_result"
    }
   ],
   "source": [
    "U # eigenvectors"
   ]
  },
  {
   "cell_type": "markdown",
   "metadata": {},
   "source": [
    "Is it true that $~~~~M = U \\cdot D \\cdot U^{\\dagger}~~?$ "
   ]
  },
  {
   "cell_type": "code",
   "execution_count": 30,
   "metadata": {},
   "outputs": [
    {
     "data": {
      "text/plain": [
       "3×3 Array{Complex{Float64},2}:\n",
       " 0.356149+0.0im        0.416494+0.17672im    0.763554-0.0927001im\n",
       " 0.416494-0.17672im    0.126703+0.0im        0.921581+0.0197089im\n",
       " 0.763554+0.0927001im  0.921581-0.0197089im  0.357764+0.0im      "
      ]
     },
     "metadata": {},
     "output_type": "display_data"
    },
    {
     "data": {
      "text/plain": [
       "3×3 Array{Complex{Float64},2}:\n",
       " 0.356149+0.0im        0.416494+0.17672im    0.763554-0.0927001im\n",
       " 0.416494-0.17672im    0.126703+0.0im        0.921581+0.0197089im\n",
       " 0.763554+0.0927001im  0.921581-0.0197089im  0.357764+0.0im      "
      ]
     },
     "metadata": {},
     "output_type": "display_data"
    }
   ],
   "source": [
    "N = U*diagm(0=>D)*U' # let us build UDU'\n",
    "display(M) # Are M and\n",
    "display(N) # N the same?"
   ]
  },
  {
   "cell_type": "code",
   "execution_count": 31,
   "metadata": {},
   "outputs": [
    {
     "data": {
      "text/plain": [
       "3×3 Array{Complex{Float64},2}:\n",
       " -1.05471e-15+0.0im          …  1.55431e-15-1.80411e-16im\n",
       " -8.88178e-16+0.0im             1.66533e-15+1.38778e-17im\n",
       "  1.55431e-15+1.66533e-16im      -2.498e-15+0.0im        "
      ]
     },
     "metadata": {},
     "output_type": "display_data"
    },
    {
     "name": "stdout",
     "output_type": "stream",
     "text": [
      "The norm of M-N is 4.592945026354102e-15\n"
     ]
    }
   ],
   "source": [
    "display(M-N) # yes, up to numerical precision\n",
    "println(\"The norm of M-N is \", norm(M-N))"
   ]
  },
  {
   "cell_type": "code",
   "execution_count": 32,
   "metadata": {},
   "outputs": [
    {
     "data": {
      "text/plain": [
       "3×3 Array{Complex{Float64},2}:\n",
       " -0.26138+0.210345im  -0.583143-0.508061im  -0.537762-0.00810858im\n",
       " -0.61876-0.161217im   0.279073+0.485567im  -0.524431+0.0495952im \n",
       " 0.691795+0.0im        0.296919+0.0im       -0.658224-0.0im       "
      ]
     },
     "metadata": {},
     "output_type": "display_data"
    },
    {
     "data": {
      "text/plain": [
       "3-element Array{Complex{Float64},1}:\n",
       "  -0.261379955705327 + 0.21034487093814058im\n",
       " -0.6187600454178341 - 0.16121734745982072im\n",
       "  0.6917951482180529 + 0.0im                "
      ]
     },
     "execution_count": 32,
     "metadata": {},
     "output_type": "execute_result"
    }
   ],
   "source": [
    "evalue1 = D[1] # first eigenvalue of matrix M\n",
    "display(U)\n",
    "evector1 = U[:,1] # first eigenvector of matrix M"
   ]
  },
  {
   "cell_type": "markdown",
   "metadata": {},
   "source": [
    "Is it true that $~~~~M\\cdot\\vec{v}_1 = \\lambda_1 \\vec{v}_1 ~~~~?$ "
   ]
  },
  {
   "cell_type": "code",
   "execution_count": 33,
   "metadata": {
    "scrolled": true
   },
   "outputs": [
    {
     "data": {
      "text/plain": [
       "3-element Array{Complex{Float64},1}:\n",
       " 0.20591365838796288 - 0.16570850576945528im  \n",
       "  0.4874556821791179 + 0.1270061192009691im   \n",
       " -0.5449923252156972 - 5.551115123125783e-17im"
      ]
     },
     "metadata": {},
     "output_type": "display_data"
    },
    {
     "data": {
      "text/plain": [
       "3-element Array{Complex{Float64},1}:\n",
       " 0.20591365838796122 - 0.16570850576945498im\n",
       " 0.48745568217911583 + 0.12700611920096905im\n",
       " -0.5449923252156935 - 0.0im                "
      ]
     },
     "metadata": {},
     "output_type": "display_data"
    }
   ],
   "source": [
    "display(M*evector1) # \n",
    "display(evalue1*evector1) # "
   ]
  },
  {
   "cell_type": "markdown",
   "metadata": {},
   "source": [
    "### Kronecker product $~~~~A \\otimes B = \\left[ \\begin{array}{cc} \n",
    "a_{11} B & a_{12}B &\\cdots& a_{1n} B \\\\ \n",
    "a_{21} B & a_{22}B &\\cdots& a_{2n} B \\\\\n",
    "\\vdots & \\vdots & \\cdots & \\vdots \\\\\n",
    "a_{n1} B & a_{n2}B &\\cdots& a_{nn} B\n",
    "\\end{array} \\right]$"
   ]
  },
  {
   "cell_type": "code",
   "execution_count": 55,
   "metadata": {},
   "outputs": [
    {
     "data": {
      "text/plain": [
       "2×2 Array{Int64,2}:\n",
       " 1  0\n",
       " 0  1"
      ]
     },
     "execution_count": 55,
     "metadata": {},
     "output_type": "execute_result"
    }
   ],
   "source": [
    "E = [1 0; 0 1]"
   ]
  },
  {
   "cell_type": "code",
   "execution_count": 56,
   "metadata": {},
   "outputs": [
    {
     "data": {
      "text/plain": [
       "2×2 Array{Int64,2}:\n",
       " 0  1\n",
       " 1  0"
      ]
     },
     "execution_count": 56,
     "metadata": {},
     "output_type": "execute_result"
    }
   ],
   "source": [
    "X = [0 1; 1 0]"
   ]
  },
  {
   "cell_type": "code",
   "execution_count": 57,
   "metadata": {},
   "outputs": [
    {
     "data": {
      "text/plain": [
       "2×2 Array{Int64,2}:\n",
       " 1  2\n",
       " 3  4"
      ]
     },
     "execution_count": 57,
     "metadata": {},
     "output_type": "execute_result"
    }
   ],
   "source": [
    "A = [1 2; 3 4]"
   ]
  },
  {
   "cell_type": "markdown",
   "metadata": {},
   "source": [
    "Example: $$\\left[ \\begin{array}{cc} 1 & 0 \\\\ 0 & 1 \\end{array} \\right] \\otimes \\left[ \\begin{array}{cc} a & b \\\\ c & d \\end{array} \\right] = \\left[ \\begin{array}{cc} a & b & 0 & 0 \\\\ c & d & 0 & 0 \\\\ 0 & 0 & a & b \\\\ 0 & 0 & c & d \\end{array} \\right]$$"
   ]
  },
  {
   "cell_type": "code",
   "execution_count": 59,
   "metadata": {},
   "outputs": [
    {
     "data": {
      "text/plain": [
       "4×4 Array{Int64,2}:\n",
       " 1  2  0  0\n",
       " 3  4  0  0\n",
       " 0  0  1  2\n",
       " 0  0  3  4"
      ]
     },
     "execution_count": 59,
     "metadata": {},
     "output_type": "execute_result"
    }
   ],
   "source": [
    "kron(E,A)"
   ]
  },
  {
   "cell_type": "code",
   "execution_count": 38,
   "metadata": {},
   "outputs": [
    {
     "data": {
      "text/plain": [
       "4×4 Array{Int64,2}:\n",
       " 0  0  1  2\n",
       " 0  0  3  4\n",
       " 1  2  0  0\n",
       " 3  4  0  0"
      ]
     },
     "execution_count": 38,
     "metadata": {},
     "output_type": "execute_result"
    }
   ],
   "source": [
    "kron(X,A)"
   ]
  },
  {
   "cell_type": "code",
   "execution_count": 60,
   "metadata": {},
   "outputs": [
    {
     "data": {
      "text/plain": [
       "4×4 Array{Int64,2}:\n",
       " 1  0  2  0\n",
       " 0  1  0  2\n",
       " 3  0  4  0\n",
       " 0  3  0  4"
      ]
     },
     "execution_count": 60,
     "metadata": {},
     "output_type": "execute_result"
    }
   ],
   "source": [
    "kron(A, E)"
   ]
  },
  {
   "cell_type": "code",
   "execution_count": 40,
   "metadata": {},
   "outputs": [
    {
     "data": {
      "text/plain": [
       "4×4 Array{Int64,2}:\n",
       " 1   2   2   4\n",
       " 3   4   6   8\n",
       " 3   6   4   8\n",
       " 9  12  12  16"
      ]
     },
     "execution_count": 40,
     "metadata": {},
     "output_type": "execute_result"
    }
   ],
   "source": [
    "kron(A,A)"
   ]
  },
  {
   "cell_type": "markdown",
   "metadata": {},
   "source": [
    "### quantum Ising model on N=3 spins\n",
    "$$H = \\sigma^x_1 \\otimes \\sigma^x_2 + \\sigma^x_2 \\otimes \\sigma^x_3 +  \\sigma^x_3 \\otimes \\sigma^x_1 \n",
    "+ h\\left( \\sigma^z_1 + \\sigma^z_2 + \\sigma^z_3\\right) $$"
   ]
  },
  {
   "cell_type": "code",
   "execution_count": 41,
   "metadata": {},
   "outputs": [
    {
     "data": {
      "text/plain": [
       "2-element Array{Float64,1}:\n",
       " 1.0\n",
       " 1.0"
      ]
     },
     "execution_count": 41,
     "metadata": {},
     "output_type": "execute_result"
    }
   ],
   "source": [
    "ones(2)"
   ]
  },
  {
   "cell_type": "code",
   "execution_count": 62,
   "metadata": {},
   "outputs": [
    {
     "data": {
      "text/plain": [
       "4×4 Array{Float64,2}:\n",
       " 0.0  0.0  0.0  1.0\n",
       " 0.0  0.0  1.0  0.0\n",
       " 0.0  1.0  0.0  0.0\n",
       " 1.0  0.0  0.0  0.0"
      ]
     },
     "execution_count": 62,
     "metadata": {},
     "output_type": "execute_result"
    }
   ],
   "source": [
    "E = diagm(0=>ones(2))\n",
    "X = [0. 1; 1 0]\n",
    "Z = [1. 0; 0 -1]\n",
    "EE = diagm(0=>ones(4))\n",
    "XX = kron(X,X)"
   ]
  },
  {
   "cell_type": "code",
   "execution_count": 63,
   "metadata": {},
   "outputs": [
    {
     "data": {
      "text/plain": [
       "8×8 Array{Float64,2}:\n",
       " 0.0  0.0  0.0  1.0  0.0  1.0  1.0  0.0\n",
       " 0.0  0.0  1.0  0.0  1.0  0.0  0.0  1.0\n",
       " 0.0  1.0  0.0  0.0  1.0  0.0  0.0  1.0\n",
       " 1.0  0.0  0.0  0.0  0.0  1.0  1.0  0.0\n",
       " 0.0  1.0  1.0  0.0  0.0  0.0  0.0  1.0\n",
       " 1.0  0.0  0.0  1.0  0.0  0.0  1.0  0.0\n",
       " 1.0  0.0  0.0  1.0  0.0  1.0  0.0  0.0\n",
       " 0.0  1.0  1.0  0.0  1.0  0.0  0.0  0.0"
      ]
     },
     "execution_count": 63,
     "metadata": {},
     "output_type": "execute_result"
    }
   ],
   "source": [
    "HXX = kron(XX,E) + kron(E, XX) + kron(X,kron(E,X))"
   ]
  },
  {
   "cell_type": "code",
   "execution_count": 65,
   "metadata": {},
   "outputs": [
    {
     "data": {
      "text/plain": [
       "8×8 Array{Float64,2}:\n",
       " 3.0  0.0  0.0   0.0  0.0   0.0   0.0   0.0\n",
       " 0.0  1.0  0.0   0.0  0.0   0.0   0.0   0.0\n",
       " 0.0  0.0  1.0   0.0  0.0   0.0   0.0   0.0\n",
       " 0.0  0.0  0.0  -1.0  0.0   0.0   0.0   0.0\n",
       " 0.0  0.0  0.0   0.0  1.0   0.0   0.0   0.0\n",
       " 0.0  0.0  0.0   0.0  0.0  -1.0   0.0   0.0\n",
       " 0.0  0.0  0.0   0.0  0.0   0.0  -1.0   0.0\n",
       " 0.0  0.0  0.0   0.0  0.0   0.0   0.0  -3.0"
      ]
     },
     "execution_count": 65,
     "metadata": {},
     "output_type": "execute_result"
    }
   ],
   "source": [
    "HZ = kron(Z,EE) + kron(E,kron(Z,E)) + kron(EE,Z)"
   ]
  },
  {
   "cell_type": "code",
   "execution_count": 45,
   "metadata": {},
   "outputs": [
    {
     "data": {
      "text/plain": [
       "Eigen{Float64,Float64,Array{Float64,2},Array{Float64,1}}\n",
       "eigenvalues:\n",
       "8-element Array{Float64,1}:\n",
       " -3.4641016151377486    \n",
       " -1.9999999999999998    \n",
       " -1.999999999999993     \n",
       " -1.6029901821534806e-16\n",
       "  0.0                   \n",
       "  1.7763568394002505e-15\n",
       "  3.4641016151377553    \n",
       "  3.9999999999999996    \n",
       "eigenvectors:\n",
       "8×8 Array{Float64,2}:\n",
       "  0.0        1.38778e-16   6.66134e-16  …   0.0       0.866025   \n",
       " -0.149429  -5.55112e-17   1.11022e-16     -0.557678  2.77556e-17\n",
       " -0.149429   5.55112e-17   1.11022e-16     -0.557678  2.77556e-17\n",
       "  0.0       -0.707107     -0.408248         0.0       0.288675   \n",
       " -0.149429  -1.2326e-32    1.11022e-16     -0.557678  1.11022e-16\n",
       "  0.0        0.707107     -0.408248     …   0.0       0.288675   \n",
       "  0.0       -9.61481e-17   0.816497         0.0       0.288675   \n",
       "  0.965926   0.0           0.0             -0.258819  0.0        "
      ]
     },
     "execution_count": 45,
     "metadata": {},
     "output_type": "execute_result"
    }
   ],
   "source": [
    "H = HXX + HZ\n",
    "D,U = eigen(H)"
   ]
  },
  {
   "cell_type": "code",
   "execution_count": 52,
   "metadata": {},
   "outputs": [
    {
     "data": {
      "text/plain": [
       "20-element Array{Float64,1}:\n",
       " 0.0                \n",
       " 0.10526315789473684\n",
       " 0.21052631578947367\n",
       " 0.3157894736842105 \n",
       " 0.42105263157894735\n",
       " 0.5263157894736842 \n",
       " 0.631578947368421  \n",
       " 0.7368421052631579 \n",
       " 0.8421052631578947 \n",
       " 0.9473684210526315 \n",
       " 1.0526315789473684 \n",
       " 1.1578947368421053 \n",
       " 1.263157894736842  \n",
       " 1.368421052631579  \n",
       " 1.4736842105263157 \n",
       " 1.5789473684210527 \n",
       " 1.6842105263157894 \n",
       " 1.7894736842105263 \n",
       " 1.894736842105263  \n",
       " 2.0                "
      ]
     },
     "execution_count": 52,
     "metadata": {},
     "output_type": "execute_result"
    }
   ],
   "source": [
    "H_max = 2\n",
    "Nsteps=20\n",
    "h = collect(0:H_max/(Nsteps-1):H_max)"
   ]
  },
  {
   "cell_type": "code",
   "execution_count": 64,
   "metadata": {
    "scrolled": false
   },
   "outputs": [],
   "source": [
    "E0 = zeros(Nsteps)\n",
    "for i=1:Nsteps\n",
    "    H = HXX + h[i]*HZ\n",
    "    D,U = eigen(H)\n",
    "    E0[i] = D[1]\n",
    "end"
   ]
  },
  {
   "cell_type": "code",
   "execution_count": 54,
   "metadata": {},
   "outputs": [
    {
     "data": {
      "image/png": "[encoded data removed]",
      "text/plain": [
       "Figure(PyObject <Figure size 640x480 with 1 Axes>)"
      ]
     },
     "metadata": {},
     "output_type": "display_data"
    }
   ],
   "source": [
    "using PyPlot\n",
    "plot(h,E0, marker=\".\", color = \"b\")\n",
    "grid(\"on\")\n",
    "title(\"Ground state energy: quantum Ising model for N=3 spins\")\n",
    "xlabel(\"magnetic field h\")\n",
    "ylabel(\"Energy\");"
   ]
  },
  {
   "cell_type": "code",
   "execution_count": null,
   "metadata": {
    "collapsed": true
   },
   "outputs": [],
   "source": []
  }
 ],
 "metadata": {
  "kernelspec": {
   "display_name": "Julia 1.0.0",
   "language": "julia",
   "name": "julia-1.0"
  },
  "language_info": {
   "file_extension": ".jl",
   "mimetype": "application/julia",
   "name": "julia",
   "version": "1.0.0"
  }
 },
 "nbformat": 4,
 "nbformat_minor": 1
}
