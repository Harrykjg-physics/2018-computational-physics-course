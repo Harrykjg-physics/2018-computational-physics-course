{
 "cells": [
  {
   "cell_type": "markdown",
   "metadata": {},
   "source": [
    "### Perimeter Institute Nov 23rd\n",
    "### 2018 computational physics course\n",
    "# Exact Diagonalization\n",
    " \n",
    "Guifre Vidal  \n",
    "\n",
    "# IJulia nb4: quantum entanglement"
   ]
  },
  {
   "cell_type": "code",
   "execution_count": null,
   "metadata": {},
   "outputs": [],
   "source": [
    "using PyPlot\n",
    "using LinearAlgebra\n",
    "using Arpack"
   ]
  },
  {
   "cell_type": "code",
   "execution_count": null,
   "metadata": {},
   "outputs": [],
   "source": [
    "Psi = randn(6) + im*randn(6) # complex vector"
   ]
  },
  {
   "cell_type": "code",
   "execution_count": null,
   "metadata": {},
   "outputs": [],
   "source": [
    "Psi'*Psi # already just a complex number! (not an array)"
   ]
  },
  {
   "cell_type": "code",
   "execution_count": null,
   "metadata": {},
   "outputs": [],
   "source": [
    "Psi = Psi/sqrt(abs(Psi'*Psi))  # normalized vector\n",
    "Psi'*Psi"
   ]
  },
  {
   "cell_type": "code",
   "execution_count": null,
   "metadata": {},
   "outputs": [],
   "source": [
    "PsiAB = reshape(Psi, (3,2)) # bipartite vector"
   ]
  },
  {
   "cell_type": "code",
   "execution_count": null,
   "metadata": {},
   "outputs": [],
   "source": [
    "rdmA = PsiAB*PsiAB' # reduced density matrix for part A\n",
    "rdmB = PsiAB'*PsiAB # reduced density matrix for part B\n",
    "(size(PsiAB), size(rdmA), size(rdmB))"
   ]
  },
  {
   "cell_type": "code",
   "execution_count": null,
   "metadata": {},
   "outputs": [],
   "source": [
    "tr(rdmA) # checking that the trace is 1"
   ]
  },
  {
   "cell_type": "markdown",
   "metadata": {},
   "source": [
    "### 1) Given a bipartite wavefunction $\\Psi_{AB}$, compute the reduced density matrix $\\rho_A \\equiv \\mbox{Tr}_B(\\left|\\Psi_{AB}\\rangle \\langle \\Psi_{AB}\\right|)$ "
   ]
  },
  {
   "cell_type": "code",
   "execution_count": null,
   "metadata": {},
   "outputs": [],
   "source": [
    "function compute_rdmA(PsiAB)\n",
    "    @assert ndims(PsiAB) == 2 # did we input a matrix?\n",
    "    @assert size(PsiAB,1) < 2^13 # make sure the resulting matrix is not too large!\n",
    "    rdm = PsiAB*PsiAB'\n",
    "end\n",
    "\n",
    "nA = 4 # number spins/qubits in A\n",
    "nB = 5 # number of spins/qubits in B\n",
    "Psi = randn(2^(nA+nB)) + im*randn(2^(nA+nB))\n",
    "Psi = Psi/sqrt(Psi'*Psi) \n",
    "PsiAB = reshape(Psi, (2^(nA),2^(nB)))\n",
    "rdmA = compute_rdmA(PsiAB)\n",
    "eigvals(rdmA)\n"
   ]
  },
  {
   "cell_type": "markdown",
   "metadata": {},
   "source": [
    "### 2) Given $\\rho_A$, compute its entropy"
   ]
  },
  {
   "cell_type": "code",
   "execution_count": null,
   "metadata": {},
   "outputs": [],
   "source": [
    "function compute_entropy(dm)\n",
    "    p = eigvals(dm)\n",
    "    entropy = 0.0\n",
    "    #entropy = - p'*log2.(p) # problems when p[n] is of order 0 (possibly negative)\n",
    "    for n in 1:size(p,1)\n",
    "        if abs(p[n]) > 1e-12\n",
    "            entropy = entropy - p[n]*log2(p[n])\n",
    "        end\n",
    "    end\n",
    "    entropy\n",
    "end\n",
    "\n",
    "compute_entropy(rdmA)"
   ]
  },
  {
   "cell_type": "markdown",
   "metadata": {},
   "source": [
    "### 3) write a function compute_entropies that takes a state $|\\Psi\\rangle$ of $N$ spins, and outputs the entropy of the reduced density matrix on $n=1,2,\\cdots,N/2$ spins "
   ]
  },
  {
   "cell_type": "code",
   "execution_count": null,
   "metadata": {},
   "outputs": [],
   "source": [
    "function compute_entropies(Psi)\n",
    "    @assert ndims(Psi) == 1 \n",
    "    N = floor(Int64,log2(size(Psi,1) + 1e-5))    \n",
    "#  your code comes here\n",
    "    entropies\n",
    "end\n"
   ]
  },
  {
   "cell_type": "markdown",
   "metadata": {},
   "source": [
    "### 4) for $N$ spins ($N \\geq 12$) create ground state of Ising model (for $\\theta = \\pi/2$ and $\\theta = \\pi/3$), as well as a random state"
   ]
  },
  {
   "cell_type": "code",
   "execution_count": null,
   "metadata": {},
   "outputs": [],
   "source": [
    "# Here is buildH from previous lectures\n",
    "function buildH(N::Int64,theta::Float64)::Array{Float64,2} \n",
    "    X = [0. 1; 1 0]\n",
    "    Z = [1. 0; 0 -1]\n",
    "    E = diagm(0=>ones(2))\n",
    "    XX = kron(X,X)\n",
    "    HXX = XX\n",
    "    HZ = kron(Z,E) + kron(E,Z)\n",
    "    for n = 3:N\n",
    "        HXX = kron(HXX,E)+kron(diagm(0=>ones(2^(n-2))), XX)\n",
    "        HZ =  kron(HZ,E) + kron(diagm(0=>ones(2^(n-1))),Z)\n",
    "    end\n",
    "    HXX = HXX + kron(X,kron(diagm(0=>ones(2^(N-2))),X))\n",
    "    H = -cos(theta)*HXX - sin(theta)*HZ\n",
    "    return H\n",
    "end"
   ]
  },
  {
   "cell_type": "code",
   "execution_count": null,
   "metadata": {},
   "outputs": [],
   "source": []
  },
  {
   "cell_type": "markdown",
   "metadata": {},
   "source": [
    "### 5) Both for the ground state (with $\\theta = \\pi/2$ and $\\theta = \\pi/3$) and a random state, compute and plot the entropy as a function of $n_A=1,2,\\cdots N/2$, "
   ]
  },
  {
   "cell_type": "code",
   "execution_count": null,
   "metadata": {},
   "outputs": [],
   "source": []
  }
 ],
 "metadata": {
  "kernelspec": {
   "display_name": "Julia 1.0.0",
   "language": "julia",
   "name": "julia-1.0"
  },
  "language_info": {
   "file_extension": ".jl",
   "mimetype": "application/julia",
   "name": "julia",
   "version": "1.0.0"
  }
 },
 "nbformat": 4,
 "nbformat_minor": 2
}
