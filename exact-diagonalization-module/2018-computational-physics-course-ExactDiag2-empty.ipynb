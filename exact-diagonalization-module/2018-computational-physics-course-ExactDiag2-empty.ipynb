{
 "cells": [
  {
   "cell_type": "markdown",
   "metadata": {},
   "source": [
    "### Perimeter Institute Nov 16th\n",
    "### 2018 computational physics course\n",
    "# Exact Diagonalization\n",
    " \n",
    "Guifre Vidal  \n",
    "\n",
    "# IJulia nb2: quantum Ising model"
   ]
  },
  {
   "cell_type": "code",
   "execution_count": null,
   "metadata": {},
   "outputs": [],
   "source": [
    "using LinearAlgebra"
   ]
  },
  {
   "cell_type": "code",
   "execution_count": null,
   "metadata": {},
   "outputs": [],
   "source": [
    "# Pauli matrices X and Z, and identity matrix I\n",
    "X = [0. 1; 1 0]\n",
    "Z = [1. 0; 0 -1]\n",
    "E = Matrix(1.0I, 2,2) # or E = [1 0; 0 1], or E = diagm(0=>[1; 1]), or diagm(0=>ones(2))\n",
    "XX = kron(X,X)\n",
    "display(Z)\n",
    "display(X)\n",
    "display(E)\n",
    "display(XX)"
   ]
  },
  {
   "cell_type": "markdown",
   "metadata": {},
   "source": [
    "### Hamiltonian for $N$ spins (use $N\\leq 10$) "
   ]
  },
  {
   "cell_type": "code",
   "execution_count": null,
   "metadata": {},
   "outputs": [],
   "source": [
    "# Ising Hamiltonian for N spins  with exact diagonalization\n",
    "N = 3\n",
    "theta = pi/4 # magnetic field\n",
    "HXX = XX\n",
    "HZ = kron(Z,E) + kron(E,Z)\n",
    "for n = 3:N\n",
    "    HXX = kron(HXX,E)+kron(diagm(0=>ones(2^(n-2))), XX)\n",
    "    HZ =  kron(HZ,E) + kron(diagm(0=>ones(2^(n-1))),Z)\n",
    "end\n",
    "HXX = HXX + kron(X,kron(diagm(0=>ones(2^(N-2))),X))\n",
    "H = -cos(theta)*HXX - sin(theta)*HZ\n",
    "\n",
    "display(H)"
   ]
  },
  {
   "cell_type": "markdown",
   "metadata": {},
   "source": [
    "###  magnetic field angle $\\theta \\in [0,\\pi/2]$ "
   ]
  },
  {
   "cell_type": "code",
   "execution_count": null,
   "metadata": {},
   "outputs": [],
   "source": [
    "N_theta=21  # number of values of magnetic field\n",
    "d_theta = pi/(2*(N_theta-1)) # increments of theta\n",
    "theta_val = collect(0:d_theta:pi/2) # list of magnetic field angle theta [0, pi/2] to be considered\n",
    "Energies = zeros(2^3,N_theta)\n",
    "for i=1:N_theta\n",
    "    H = -cos(theta_val[i])*HXX - sin(theta_val[i])*HZ # build the Hamiltonian\n",
    "    D,U = eigen(H)          # diagonalize the Hamiltonian\n",
    "    Energies[:,i] = D\n",
    "end\n",
    "[theta_val Energies[1,:]]"
   ]
  },
  {
   "cell_type": "markdown",
   "metadata": {},
   "source": [
    "### Let us plot this!"
   ]
  },
  {
   "cell_type": "code",
   "execution_count": null,
   "metadata": {},
   "outputs": [],
   "source": [
    "using PyPlot"
   ]
  },
  {
   "cell_type": "code",
   "execution_count": null,
   "metadata": {},
   "outputs": [],
   "source": [
    "figure(\"My_figure\",figsize=(8,3))\n",
    "grid(\"on\")\n",
    "for i in 1:2^N\n",
    "    plot(2*theta_val/pi,vec(Energies[i,:]), marker=\".\")\n",
    "end\n",
    "title(\"Energy spectrum of quantum Ising model\")\n",
    "xlabel(\"magnetic field theta\")\n",
    "ylabel(\"Energy levels\");"
   ]
  },
  {
   "cell_type": "markdown",
   "metadata": {},
   "source": [
    "\n",
    "# Now it's your turn! (1/3)\n",
    "### 1) write a function buildH that builds the Hamiltonian for $N$ spins (use only for $N\\leq 10$)"
   ]
  },
  {
   "cell_type": "code",
   "execution_count": null,
   "metadata": {},
   "outputs": [],
   "source": [
    "# function buildH takes as input N (number of spins) and theta (magnetic field angle) and output H (Hamiltonian)\n",
    "function buildH(N::Int64,theta::Float64)::Array{Float64,2} \n",
    "    #\n",
    "    # complete this! \n",
    "    #\n",
    "    return H\n",
    "end\n",
    "\n",
    "buildH(3,pi/4) # test for N=3 and critical angle pi/4"
   ]
  },
  {
   "cell_type": "markdown",
   "metadata": {},
   "source": [
    "### 2) plot the energy spectrum as a function of angle theta, $\\theta \\in [0,\\pi/2]$, for $N=8$ spins"
   ]
  },
  {
   "cell_type": "code",
   "execution_count": null,
   "metadata": {},
   "outputs": [],
   "source": []
  },
  {
   "cell_type": "markdown",
   "metadata": {},
   "source": [
    "# Let us continue: \n",
    "### Translation operator $T$, with $[H,T]=0$ (translation invariance)"
   ]
  },
  {
   "cell_type": "code",
   "execution_count": null,
   "metadata": {},
   "outputs": [],
   "source": [
    "# Let us quickly rebuild the Hamiltonian for N=3 spins and magnetic field angle theta = pi/4\n",
    "EE = kron(E,E)\n",
    "HZ = kron(Z,EE) + kron(E,kron(Z,E)) + kron(EE,Z)\n",
    "HXX = kron(XX,E)+kron(E,XX)+kron(X,kron(E,X))\n",
    "H = -(HXX+HZ)/sqrt(2)\n",
    " \n",
    "# The translation operator T is\n",
    "SWAP = [1 0 0 0; 0 0 1 0; 0 1 0 0; 0 0 0 1]\n",
    "N = 3\n",
    "T = copy(SWAP)\n",
    "for n=3:N\n",
    "    SWAPn = kron(diagm(0=>ones(2^(n-2))), SWAP)\n",
    "    T =  SWAPn*kron(T,E)\n",
    "end\n",
    "#display(SWAP)\n",
    "#display(SWAP^2)\n",
    "display(T)\n",
    "#display(T^3)\n",
    "#display(H3*T-T*H3)"
   ]
  },
  {
   "cell_type": "markdown",
   "metadata": {},
   "source": [
    "### Let us diagonalize $H$ and $T$ simultaneously, \n",
    "### $H |\\Psi_i\\rangle = e_i |\\Psi_i\\rangle$  and   $T |\\Psi_i\\rangle = \\exp(ik_i) |\\Psi_i\\rangle$"
   ]
  },
  {
   "cell_type": "code",
   "execution_count": null,
   "metadata": {},
   "outputs": [],
   "source": [
    "HT = H + 0.0001*T \n",
    "D,U = eigen(HT);"
   ]
  },
  {
   "cell_type": "markdown",
   "metadata": {},
   "source": [
    "### Let us compute and plot energies $e_i$ as a function of momenta $k_i$"
   ]
  },
  {
   "cell_type": "code",
   "execution_count": null,
   "metadata": {},
   "outputs": [],
   "source": [
    "e = real(diag(U'*H*U))  \n",
    "k = angle.(diag(U'*T*U))\n",
    "\n",
    "perm = sortperm(e) # re-order eigenvalues according to increasing energies e\n",
    "e = e[perm]\n",
    "k = k[perm] \n",
    "\n",
    "[e k]"
   ]
  },
  {
   "cell_type": "code",
   "execution_count": null,
   "metadata": {},
   "outputs": [],
   "source": [
    "figure(\"low_energies\",figsize=(8,3))\n",
    "\n",
    "grid(\"on\") # Create a grid on the axis\n",
    "title(\"low energies spin chain\")\n",
    "#ax = gca()\n",
    "#ax[:set_xlim]([-3,3])\n",
    "#ax[:set_ylim]([-0.2,2.8])\n",
    "xlabel(\"momentum\")\n",
    "ylabel(\"energy\")\n",
    "for i in 1:size(e,1)\n",
    "    plot(k[i],e[i], marker = \"s\", markersize = 8, color = \"y\")\n",
    "end\n"
   ]
  },
  {
   "cell_type": "markdown",
   "metadata": {},
   "source": [
    "# It's your turn again! (2/3)\n",
    "### 3) write a function buildT that builds the translation operator $T$ for $N$ spins (use only for $N\\leq 10$)"
   ]
  },
  {
   "cell_type": "code",
   "execution_count": null,
   "metadata": {},
   "outputs": [],
   "source": [
    "# function buildT takes as input N (number of spins) and outputs T (translatio operator)\n",
    "function buildT(N::Int64)::Array{Float64,2} \n",
    "        #\n",
    "        # complete this\n",
    "        #\n",
    "    return T\n",
    "end\n",
    "\n",
    "buildT(3) # test for N=3 and critical angle pi/4"
   ]
  },
  {
   "cell_type": "markdown",
   "metadata": {},
   "source": [
    "### 4) compute and plot energies $e_i$ as a function of momenta $k_i$ for $N=8$ spins and $\\theta=\\pi/4$"
   ]
  },
  {
   "cell_type": "code",
   "execution_count": null,
   "metadata": {},
   "outputs": [],
   "source": []
  },
  {
   "cell_type": "markdown",
   "metadata": {},
   "source": [
    "# Let us continue:\n",
    "### We add the parity operator $P$, with $[H,P]=[T,P]=0$ (parity conservation)"
   ]
  },
  {
   "cell_type": "code",
   "execution_count": null,
   "metadata": {},
   "outputs": [],
   "source": [
    "# Let us quickly rebuild the Hamiltonian for N=3 spins and magnetic field angle theta = pi/4\n",
    "EE = kron(E,E)\n",
    "HZ = kron(Z,EE) + kron(E,kron(Z,E)) + kron(EE,Z)\n",
    "HXX = kron(XX,E)+kron(E,XX)+kron(X,kron(E,X))\n",
    "H = -(HXX+HZ)/sqrt(2)\n",
    "# and the translation operator for N=3 \n",
    "T = kron(E,SWAP)*kron(SWAP,E)\n",
    "\n",
    "# The parity operator P is\n",
    "Z = [1 0; 0 -1]\n",
    "N=3\n",
    "P = copy(Z)\n",
    "for i=2:N\n",
    "    P = kron(P,Z)\n",
    "end\n",
    "#display(Z)\n",
    "display(P)\n",
    "#display(P^2)\n",
    "#display(norm(H3*P-P*H3))\n",
    "#display(norm(T*P-P*T))"
   ]
  },
  {
   "cell_type": "markdown",
   "metadata": {},
   "source": [
    "### Let us diagonalize $H$, $T$, and $P$ simultaneously, \n",
    "### $H |\\Psi_i\\rangle = e_i |\\Psi_i\\rangle$,   $~~~T |\\Psi_i\\rangle = \\exp(ik_i) |\\Psi_i\\rangle$, and $~~~Z |\\Psi_i\\rangle = (-1)^p |\\Psi_i\\rangle$"
   ]
  },
  {
   "cell_type": "code",
   "execution_count": null,
   "metadata": {},
   "outputs": [],
   "source": [
    "HTP = H + 0.0001*T + im*0.01*P\n",
    "D,U = eigen(HTP)"
   ]
  },
  {
   "cell_type": "markdown",
   "metadata": {},
   "source": [
    "### Let us compute and plot energies $e_i$, momenta $k_i$, and parity $p_i$"
   ]
  },
  {
   "cell_type": "code",
   "execution_count": null,
   "metadata": {},
   "outputs": [],
   "source": [
    "e = real(diag(U'*H*U)) \n",
    "k = angle.(diag(U'*T*U))\n",
    "p = real(diag(U'*P*U))\n",
    "p = round.((1 .- p)/2) \n",
    "perm = sortperm(e) # re-order eigenvalues according to E\n",
    "e = e[perm]\n",
    "k = k[perm] \n",
    "p = p[perm]\n",
    "[e k p]\n"
   ]
  },
  {
   "cell_type": "code",
   "execution_count": null,
   "metadata": {},
   "outputs": [],
   "source": [
    "figure(\"low_energies\",figsize=(8,3))\n",
    "\n",
    "subplot(121) # Create the 1st axis of a 2x2 arrax of axes\n",
    "grid(\"on\") # Create a grid on the axis\n",
    "title(\"Even Parity, p=0\")\n",
    "xlabel(\"momentum\")\n",
    "ylabel(\"energy\")\n",
    "\n",
    "subplot(122) # Create the 1st axis of a 2x2 arrax of axes\n",
    "grid(\"on\") # Create a grid on the axis\n",
    "title(\"Even Parity, p=1\")\n",
    "xlabel(\"momentum\")\n",
    "ylabel(\"energy\")\n",
    "\n",
    "for i in 1:size(e,1)\n",
    "    if p[i] == 0\n",
    "        subplot(121)\n",
    "        plot(k[i],e[i], marker = \"s\", color = \"b\")\n",
    "    elseif p[i] == 1\n",
    "        subplot(122)\n",
    "        plot(k[i],e[i], marker = \"o\", color = \"k\")\n",
    "    end\n",
    "end   "
   ]
  },
  {
   "cell_type": "markdown",
   "metadata": {},
   "source": [
    "# It's your turn for the last time! (3/3)\n",
    "### 5) write a function buildP that builds the parity operator $P$ for $N$ spins (use only for $N\\leq 10$)"
   ]
  },
  {
   "cell_type": "code",
   "execution_count": null,
   "metadata": {},
   "outputs": [],
   "source": [
    "# function buildP takes as input N (number of spins) and outputs P (parity operator)\n",
    "function buildP(N::Int64)::Array{Float64,2} \n",
    "        #\n",
    "        # complete this\n",
    "        #\n",
    "    return P\n",
    "end\n",
    "\n",
    "buildP(3) # test for N=3 and critical angle pi/4"
   ]
  },
  {
   "cell_type": "markdown",
   "metadata": {},
   "source": [
    "### 6) compute and plot energies $e_i$ as a function of momenta $k_i$ for $N=8$ spins and $\\theta=\\pi/4$, for parity $p=0,1$"
   ]
  },
  {
   "cell_type": "code",
   "execution_count": null,
   "metadata": {},
   "outputs": [],
   "source": []
  },
  {
   "cell_type": "markdown",
   "metadata": {},
   "source": [
    "### Function that builds the Hamiltonian for $N$ spins (use $N\\leq 10$) "
   ]
  },
  {
   "cell_type": "code",
   "execution_count": null,
   "metadata": {},
   "outputs": [],
   "source": []
  },
  {
   "cell_type": "markdown",
   "metadata": {},
   "source": [
    "# Good job!!! (maybe...)"
   ]
  }
 ],
 "metadata": {
  "kernelspec": {
   "display_name": "Julia 1.0.0",
   "language": "julia",
   "name": "julia-1.0"
  },
  "language_info": {
   "file_extension": ".jl",
   "mimetype": "application/julia",
   "name": "julia",
   "version": "1.0.0"
  }
 },
 "nbformat": 4,
 "nbformat_minor": 1
}
